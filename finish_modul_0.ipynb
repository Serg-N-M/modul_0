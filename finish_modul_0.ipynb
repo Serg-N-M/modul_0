{
 "cells": [
  {
   "cell_type": "code",
   "execution_count": 7,
   "metadata": {},
   "outputs": [
    {
     "name": "stdout",
     "output_type": "stream",
     "text": [
      "Ваш алгоритм угадывает число в среднем за 7 попыток\n"
     ]
    },
    {
     "data": {
      "text/plain": [
       "7"
      ]
     },
     "execution_count": 7,
     "metadata": {},
     "output_type": "execute_result"
    }
   ],
   "source": [
    "import numpy as np\n",
    "def score_game(game_core):\n",
    "    '''Запускаем игру 1000 раз, чтобы узнать, как быстро игра угадывает число'''\n",
    "    count_ls = []\n",
    "    np.random.seed(1)  # фиксируем RANDOM SEED, чтобы ваш эксперимент был воспроизводим!\n",
    "    random_array = np.random.randint(1,101, size=(1000))\n",
    "    for number in random_array:\n",
    "        count_ls.append(game_core(number))\n",
    "    score = int(np.mean(count_ls))\n",
    "    print(f\"Ваш алгоритм угадывает число в среднем за {score} попыток\")\n",
    "    return(score)\n",
    "def game_core_v2(number):\n",
    "    '''Сначала устанавливаем любое random число, а потом уменьшаем или увеличиваем его в зависимости от того,\n",
    "    больше оно или меньше нужного. Функция принимает загаданное число и возвращает число попыток'''\n",
    "    count = 0                                            #счётчик попыток\n",
    "    predict = np.random.randint(1,101)                   #предполагаемое число\n",
    "    d1 = 0                                               #нижняя граница диапазона предполагаемых чисел\n",
    "    d2 = 100                                             #верхняя граница диапазона предполагаемых чисел\n",
    "    while number != predict:                             #запускаем цикл перебора предполагаемых чисел\n",
    "        count+=1\n",
    "        if number > predict:                             #в случае, если загаданное число больше предполагаемого:\n",
    "            d1 = predict                                 #присваеваем нижней границе диапазона предполагаемое значение и\n",
    "            predict = round(((d2-d1)/2+predict),0)       #предполагаемое значение увеличиваем на половину диапазона\n",
    "        elif number < predict:                           #в случае, если загаданное число меньше предполагаемого:\n",
    "            d2 = predict                                 #присваеваем нижней границе диапазона предполагаемое значение и\n",
    "            predict = round((predict-(d2-d1)),0)         #предполагаемое значение уменьшаем на половину диапазона\n",
    "    return(count)# выход из цикла, если угадали\n",
    "score_game(game_core_v2)"
   ]
  }
 ],
 "metadata": {
  "kernelspec": {
   "display_name": "Python 3",
   "language": "python",
   "name": "python3"
  },
  "language_info": {
   "codemirror_mode": {
    "name": "ipython",
    "version": 3
   },
   "file_extension": ".py",
   "mimetype": "text/x-python",
   "name": "python",
   "nbconvert_exporter": "python",
   "pygments_lexer": "ipython3",
   "version": "3.8.3"
  }
 },
 "nbformat": 4,
 "nbformat_minor": 4
}
